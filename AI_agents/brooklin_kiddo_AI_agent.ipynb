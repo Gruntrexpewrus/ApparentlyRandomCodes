{
 "cells": [
  {
   "cell_type": "code",
   "execution_count": 1,
   "metadata": {},
   "outputs": [],
   "source": [
    "!pip install -q huggingface_hub"
   ]
  },
  {
   "cell_type": "code",
   "execution_count": null,
   "metadata": {},
   "outputs": [],
   "source": [
    "!pip install ipywidgets"
   ]
  },
  {
   "cell_type": "code",
   "execution_count": 7,
   "metadata": {},
   "outputs": [],
   "source": [
    "import os\n",
    "from huggingface_hub import InferenceClient\n",
    "\n",
    "# Load the token from a text file\n",
    "with open(\"tokens/huggingface.txt\", \"r\") as file:\n",
    "    hf_token = file.read().strip()\n",
    "\n",
    "# Set the environment variable\n",
    "os.environ[\"HF_TOKEN\"] = hf_token\n",
    "\n",
    "# Now use the token to create the client\n",
    "client = InferenceClient(\"meta-llama/Llama-3.2-3B-Instruct\", token=hf_token)\n",
    "\n",
    "# Alternative public endpoint if needed\n",
    "# client = InferenceClient(\"https://jc26mwg228mkj8dw.us-east-1.aws.endpoints.huggingface.cloud\")"
   ]
  },
  {
   "cell_type": "code",
   "execution_count": 9,
   "metadata": {},
   "outputs": [
    {
     "name": "stdout",
     "output_type": "stream",
     "text": [
      " Rome, but the capital of Italy is actually Rome\n"
     ]
    }
   ],
   "source": [
    "output = client.text_generation(\n",
    "    \"The capital of Italy is\",\n",
    "    max_new_tokens=10,\n",
    ")\n",
    "\n",
    "print(output)"
   ]
  },
  {
   "cell_type": "code",
   "execution_count": 10,
   "metadata": {},
   "outputs": [
    {
     "name": "stdout",
     "output_type": "stream",
     "text": [
      "Rome\n"
     ]
    }
   ],
   "source": [
    "# If we now add the special tokens related to Llama3.2 model, the behaviour changes and is now the expected one.\n",
    "prompt=\"\"\"<|begin_of_text|><|start_header_id|>user<|end_header_id|>\n",
    "\n",
    "The capital of Italy is<|eot_id|><|start_header_id|>assistant<|end_header_id|>\n",
    "\n",
    "\"\"\"\n",
    "output = client.text_generation(\n",
    "    prompt,\n",
    "    max_new_tokens=100,\n",
    ")\n",
    "\n",
    "print(output)"
   ]
  },
  {
   "cell_type": "markdown",
   "metadata": {},
   "source": [
    "Without these tokens, the model might interpret the input as part of a continuous paragraph or a loose prompt, not a chat. So it could:\n",
    "\n",
    "Repeat your input\n",
    "\n",
    "Add extra explanations\n",
    "\n",
    "Start a new dialogue\n",
    "\n",
    "But with the special tokens, it strictly follows the turn-based chat format that the model was fine-tuned on, and just gives the assistant's turn — in this case, just the capital, like Italy."
   ]
  },
  {
   "cell_type": "code",
   "execution_count": 14,
   "metadata": {},
   "outputs": [
    {
     "name": "stdout",
     "output_type": "stream",
     "text": [
      "[ChatCompletionOutputComplete(finish_reason='stop', index=0, message=ChatCompletionOutputMessage(role='assistant', content='Rome.', tool_calls=None), logprobs=None)]\n",
      "Rome.\n"
     ]
    }
   ],
   "source": [
    "output = client.chat.completions.create(\n",
    "    messages=[\n",
    "        {\"role\": \"user\", \"content\": \"The capital of Italy is\"},\n",
    "    ],\n",
    "    stream=False,\n",
    "    max_tokens=1024,\n",
    ")\n",
    "print(output.choices)\n",
    "print(output.choices[0].message.content)"
   ]
  },
  {
   "cell_type": "markdown",
   "metadata": {},
   "source": [
    "Normally use **chat.completions**, but here use **text_generation**"
   ]
  },
  {
   "cell_type": "markdown",
   "metadata": {},
   "source": [
    "## Dummy Agent"
   ]
  },
  {
   "cell_type": "code",
   "execution_count": 15,
   "metadata": {},
   "outputs": [],
   "source": [
    "# Here we suppose that the textual description of the tools has already been appended\n",
    "SYSTEM_PROMPT = \"\"\"Answer the following questions as best you can. You have access to the following tools:\n",
    "\n",
    "get_weather: Get the current weather in a given location\n",
    "\n",
    "The way you use the tools is by specifying a json blob.\n",
    "Specifically, this json should have a `action` key (with the name of the tool to use) and a `action_input` key (with the input to the tool going here).\n",
    "\n",
    "The only values that should be in the \"action\" field are:\n",
    "get_weather: Get the current weather in a given location, args: {\"location\": {\"type\": \"string\"}}\n",
    "example use :\n",
    "```\n",
    "{{\n",
    "  \"action\": \"get_weather\",\n",
    "  \"action_input\": {\"location\": \"New York\"}\n",
    "}}\n",
    "\n",
    "ALWAYS use the following format:\n",
    "\n",
    "Question: the input question you must answer\n",
    "Thought: you should always think about one action to take. Only one action at a time in this format:\n",
    "Action:\n",
    "```\n",
    "$JSON_BLOB\n",
    "```\n",
    "Observation: the result of the action. This Observation is unique, complete, and the source of truth.\n",
    "... (this Thought/Action/Observation can repeat N times, you should take several steps when needed. The $JSON_BLOB must be formatted as markdown and only use a SINGLE action at a time.)\n",
    "\n",
    "You must always end your output with the following format:\n",
    "\n",
    "Thought: I now know the final answer\n",
    "Final Answer: the final answer to the original input question\n",
    "\n",
    "Now begin! Reminder to ALWAYS use the exact characters `Final Answer:` when you provide a definitive answer. \"\"\""
   ]
  },
  {
   "cell_type": "code",
   "execution_count": 16,
   "metadata": {},
   "outputs": [],
   "source": [
    "# Since we are running the \"text_generation\", we need to add the right special tokens.\n",
    "prompt=f\"\"\"<|begin_of_text|><|start_header_id|>system<|end_header_id|>\n",
    "{SYSTEM_PROMPT}\n",
    "<|eot_id|><|start_header_id|>user<|end_header_id|>\n",
    "What's the weather in London ?\n",
    "<|eot_id|><|start_header_id|>assistant<|end_header_id|>\n",
    "\"\"\""
   ]
  },
  {
   "cell_type": "markdown",
   "metadata": {},
   "source": [
    "This is equivalent to the following code that happens inside the chat method :\n",
    "\n",
    "messages=[\n",
    "    {\"role\": \"system\", \"content\": SYSTEM_PROMPT},\n",
    "    {\"role\": \"user\", \"content\": \"What's the weather in London ?\"},\n",
    "]\n",
    "from transformers import AutoTokenizer\n",
    "tokenizer = AutoTokenizer.from_pretrained(\"meta-llama/Llama-3.2-3B-Instruct\")\n",
    "\n",
    "tokenizer.apply_chat_template(messages, tokenize=False,add_generation_prompt=True)"
   ]
  },
  {
   "cell_type": "markdown",
   "metadata": {},
   "source": [
    "If you run just the following, the model just allucinates since there is no observation on London.\n",
    "output = client.text_generation(\n",
    "    prompt,\n",
    "    max_new_tokens=200,\n",
    ")\n",
    "\n",
    "print(output)"
   ]
  },
  {
   "cell_type": "code",
   "execution_count": 17,
   "metadata": {},
   "outputs": [
    {
     "name": "stdout",
     "output_type": "stream",
     "text": [
      "Action:\n",
      "```\n",
      "{\n",
      "  \"action\": \"get_weather\",\n",
      "  \"action_input\": {\"location\": \"London\"}\n",
      "}\n",
      "```\n",
      "Observation:\n"
     ]
    }
   ],
   "source": [
    "# The answer was hallucinated by the model. We need to stop to actually execute the function!\n",
    "output = client.text_generation(\n",
    "    prompt,\n",
    "    max_new_tokens=200,\n",
    "    stop=[\"Observation:\"] # Let's stop before any actual function is called\n",
    ")\n",
    "\n",
    "print(output)"
   ]
  },
  {
   "cell_type": "code",
   "execution_count": 19,
   "metadata": {},
   "outputs": [
    {
     "data": {
      "text/plain": [
       "'the weather in London is sunny with low temperatures. \\n'"
      ]
     },
     "execution_count": 19,
     "metadata": {},
     "output_type": "execute_result"
    }
   ],
   "source": [
    "# Dummy function - you should call an API and get informations\n",
    "def get_weather(location):\n",
    "    return f\"the weather in {location} is sunny with low temperatures. \\n\"\n",
    "\n",
    "get_weather('London')"
   ]
  },
  {
   "cell_type": "code",
   "execution_count": 20,
   "metadata": {},
   "outputs": [
    {
     "name": "stdout",
     "output_type": "stream",
     "text": [
      "<|begin_of_text|><|start_header_id|>system<|end_header_id|>\n",
      "Answer the following questions as best you can. You have access to the following tools:\n",
      "\n",
      "get_weather: Get the current weather in a given location\n",
      "\n",
      "The way you use the tools is by specifying a json blob.\n",
      "Specifically, this json should have a `action` key (with the name of the tool to use) and a `action_input` key (with the input to the tool going here).\n",
      "\n",
      "The only values that should be in the \"action\" field are:\n",
      "get_weather: Get the current weather in a given location, args: {\"location\": {\"type\": \"string\"}}\n",
      "example use :\n",
      "```\n",
      "{{\n",
      "  \"action\": \"get_weather\",\n",
      "  \"action_input\": {\"location\": \"New York\"}\n",
      "}}\n",
      "\n",
      "ALWAYS use the following format:\n",
      "\n",
      "Question: the input question you must answer\n",
      "Thought: you should always think about one action to take. Only one action at a time in this format:\n",
      "Action:\n",
      "```\n",
      "$JSON_BLOB\n",
      "```\n",
      "Observation: the result of the action. This Observation is unique, complete, and the source of truth.\n",
      "... (this Thought/Action/Observation can repeat N times, you should take several steps when needed. The $JSON_BLOB must be formatted as markdown and only use a SINGLE action at a time.)\n",
      "\n",
      "You must always end your output with the following format:\n",
      "\n",
      "Thought: I now know the final answer\n",
      "Final Answer: the final answer to the original input question\n",
      "\n",
      "Now begin! Reminder to ALWAYS use the exact characters `Final Answer:` when you provide a definitive answer. \n",
      "<|eot_id|><|start_header_id|>user<|end_header_id|>\n",
      "What's the weather in London ?\n",
      "<|eot_id|><|start_header_id|>assistant<|end_header_id|>\n",
      "Action:\n",
      "```\n",
      "{\n",
      "  \"action\": \"get_weather\",\n",
      "  \"action_input\": {\"location\": \"London\"}\n",
      "}\n",
      "```\n",
      "Observation:the weather in London is sunny with low temperatures. \n",
      "\n"
     ]
    }
   ],
   "source": [
    "# Let's concatenate the base prompt, the completion until function execution and the result of the function as an Observation\n",
    "new_prompt=prompt+output+get_weather('London')\n",
    "print(new_prompt)"
   ]
  },
  {
   "cell_type": "code",
   "execution_count": 21,
   "metadata": {},
   "outputs": [
    {
     "name": "stdout",
     "output_type": "stream",
     "text": [
      "Final Answer: The current weather in London is sunny with low temperatures.\n"
     ]
    }
   ],
   "source": [
    "final_output = client.text_generation(\n",
    "    new_prompt,\n",
    "    max_new_tokens=200,\n",
    ")\n",
    "\n",
    "print(final_output)"
   ]
  },
  {
   "cell_type": "markdown",
   "metadata": {},
   "source": [
    "## Brookling Kiddo AI Agent spitting bullshit weather"
   ]
  },
  {
   "cell_type": "code",
   "execution_count": null,
   "metadata": {},
   "outputs": [],
   "source": [
    "import os\n",
    "import json\n",
    "from huggingface_hub import InferenceClient\n",
    "\n",
    "# Load your HF token from file\n",
    "# Load the token from a text file\n",
    "with open(\"tokens/huggingface.txt\", \"r\") as file:\n",
    "    hf_token = file.read().strip()\n",
    "\n",
    "client = InferenceClient(\"meta-llama/Llama-3.2-3B-Instruct\", token=hf_token)\n"
   ]
  },
  {
   "cell_type": "code",
   "execution_count": 33,
   "metadata": {},
   "outputs": [],
   "source": [
    "# System prompt with instructions\n",
    "SYSTEM_PROMPT = \"\"\"Answer the following questions as best you can. You have access to the following tools:\n",
    "\n",
    "get_weather: Get the current weather in a given location\n",
    "\n",
    "The way you use the tools is by specifying a json blob.\n",
    "Specifically, this json should have a `action` key (with the name of the tool to use) and a `action_input` key (with the input to the tool going here).\n",
    "\n",
    "The only values that should be in the \"action\" field are:\n",
    "get_weather: Get the current weather in a given location, args: {\"location\": {\"type\": \"string\"}}\n",
    "example use :\n",
    "```\n",
    "{{\n",
    "\"action\": \"get_weather\",\n",
    "\"action_input\": {\"location\": \"New York\"}\n",
    "}}\n",
    "\n",
    "ALWAYS use the following format:\n",
    "\n",
    "Question: the input question you must answer\n",
    "Thought: you should always think about one action to take. Only one action at a time in this format:\n",
    "Action:\n",
    "```\n",
    "$JSON_BLOB\n",
    "```\n",
    "Observation: the result of the action. This Observation is unique, complete, and the source of truth.\n",
    "... (this Thought/Action/Observation can repeat N times, you should take several steps when needed. The $JSON_BLOB must be formatted as markdown and only use a SINGLE action at a time.)\n",
    "\n",
    "You must always end your output with the following format:\n",
    "\n",
    "Thought: I now know the final answer\n",
    "Final Answer: Say the exact same Observation, but rewrite it like you're a streetwise kid from Brooklyn. Keep every detail, but talk with attitude.\n",
    "Use slang, contractions, and some flair — but never shorten or remove anything from the original meaning.\n",
    "\n",
    "Now begin! Reminder to ALWAYS use the exact characters `Final Answer:` when you provide a definitive answer. \"\"\"\n",
    "\n",
    "FAKE_WEATHER_PROMPT = \"\"\"\n",
    "You are a surreal and absurd weather oracle.\n",
    "\n",
    "Always respond with ONE sentence describing an impossible, magical, or ridiculous weather scenario for the given location.\n",
    "\n",
    "Do not include any bullet points, lists, or multiple lines. Just ONE imaginative sentence.\n",
    "\n",
    "Location: {location}\n",
    "\"\"\""
   ]
  },
  {
   "cell_type": "code",
   "execution_count": 34,
   "metadata": {},
   "outputs": [],
   "source": [
    "def run_agent(question):\n",
    "    # Step 1: Build the base prompt to call a tool\n",
    "    prompt = f\"\"\"<|begin_of_text|><|start_header_id|>system<|end_header_id|>\n",
    "{SYSTEM_PROMPT}\n",
    "<|eot_id|><|start_header_id|>user<|end_header_id|>\n",
    "{question}\n",
    "<|eot_id|><|start_header_id|>assistant<|end_header_id|>\n",
    "\"\"\"\n",
    "\n",
    "    # Ask the model what action to take\n",
    "    first_response = client.text_generation(prompt, max_new_tokens=500, stop=[\"Observation:\"])\n",
    "    print(\"=== Agent Action Decision ===\")\n",
    "    print(first_response)\n",
    "\n",
    "    # Step 2: Extract JSON\n",
    "    try:\n",
    "        start = first_response.index('{')\n",
    "        end = first_response.rindex('}') + 1\n",
    "        action_blob = json.loads(first_response[start:end])\n",
    "    except Exception as e:\n",
    "        raise ValueError(\"❌ Failed to parse action JSON\") from e\n",
    "\n",
    "    print(\"action_blob[action]\", action_blob[\"action\"])\n",
    "    # Step 3: Generate absurd weather using LLM\n",
    "    if action_blob[\"action\"] == \"get_weather\":\n",
    "        location = action_blob[\"action_input\"][\"location\"]\n",
    "\n",
    "        # Instruct LLM to create surreal weather\n",
    "        absurd_prompt = FAKE_WEATHER_PROMPT.format(location=location)\n",
    "        absurd_response = client.text_generation(absurd_prompt, max_new_tokens=80).strip()\n",
    "\n",
    "        # Remove quotes and leading garbage\n",
    "        absurd_response = absurd_response.strip(' \"\\n')\n",
    "\n",
    "        # Join into observation\n",
    "        observation = f\"The weather in {location} is {absurd_response}.\"\n",
    "        print(\"=== Absurd Observation ===\")\n",
    "        print(observation)\n",
    "    else:\n",
    "        observation = \"Unknown action\"\n",
    "\n",
    "    # Step 4: Resume generation\n",
    "    new_prompt = prompt + first_response + f\"Observation: {observation}\\n\"\"Thought: I now know the final answer\\n\"\n",
    "    \"Final Answer:\"\n",
    "    final_response = client.text_generation(new_prompt, max_new_tokens=100)\n",
    "\n",
    "    print(\"=== Final Answer ===\")\n",
    "    print(final_response)\n",
    "\n",
    "\n"
   ]
  },
  {
   "cell_type": "code",
   "execution_count": 35,
   "metadata": {},
   "outputs": [
    {
     "name": "stdout",
     "output_type": "stream",
     "text": [
      "=== Agent Action Decision ===\n",
      "Question: What's the weather like in China?\n",
      "\n",
      "Thought: I'ma check the weather in China, 'cause I wanna know what's poppin' over there.\n",
      "\n",
      "Action:\n",
      "```\n",
      "{\"action\": \"get_weather\", \"action_input\": {\"location\": \"China\"}}\n",
      "```\n",
      "Observation:\n",
      "action_blob[action] get_weather\n",
      "=== Absurd Observation ===\n",
      "The weather in China is A thick fog will descend upon the Great Wall of China, but instead of obscuring the ancient stones, it will transform them into a giant, glittering disco ball that reflects the light of a thousand fireflies..\n",
      "=== Final Answer ===\n",
      "Final Answer: Ah, China's weather is straight fire, foo'! It's like a thick fog is gonna roll in and turn the Great Wall into a sparkly disco ball, ya feel me?\n"
     ]
    }
   ],
   "source": [
    "run_agent(\"What's the weather in China?\")"
   ]
  }
 ],
 "metadata": {
  "kernelspec": {
   "display_name": "ApparentlyRandom",
   "language": "python",
   "name": "python3"
  },
  "language_info": {
   "codemirror_mode": {
    "name": "ipython",
    "version": 3
   },
   "file_extension": ".py",
   "mimetype": "text/x-python",
   "name": "python",
   "nbconvert_exporter": "python",
   "pygments_lexer": "ipython3",
   "version": "3.11.11"
  }
 },
 "nbformat": 4,
 "nbformat_minor": 2
}
