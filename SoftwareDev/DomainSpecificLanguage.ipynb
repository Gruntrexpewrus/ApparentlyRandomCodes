{
 "cells": [
  {
   "cell_type": "markdown",
   "metadata": {},
   "source": [
    "Inspired by Domain Languages in \"The Pragmatic Programmer\" book."
   ]
  },
  {
   "cell_type": "markdown",
   "metadata": {},
   "source": [
    "SO the code is very simple, human readable and it will execute using lark. This allows my python to write something more complex in a domain language easily understood by non-specialists."
   ]
  },
  {
   "cell_type": "markdown",
   "metadata": {},
   "source": [
    "\t•\tLark is the parser generator — it reads the grammar and parses code written in your DSL.\n",
    "\t•\tTransformer is used to walk through the parsed tree and convert or execute the parsed data."
   ]
  },
  {
   "cell_type": "code",
   "execution_count": 3,
   "metadata": {},
   "outputs": [
    {
     "name": "stdout",
     "output_type": "stream",
     "text": [
      "0.12.0\n"
     ]
    }
   ],
   "source": [
    "import lark\n",
    "print(lark.__version__)"
   ]
  },
  {
   "cell_type": "code",
   "execution_count": 12,
   "metadata": {},
   "outputs": [],
   "source": [
    "# mini_language.py\n",
    "from lark import Lark, Transformer\n",
    "\n",
    "# === DSL GRAMMAR ===\n",
    "grammar = \"\"\"\n",
    "start: statement+\n",
    "statement: \"when\" condition \"then\" action\n",
    "\n",
    "condition: \"temperature\" comparator SIGNED_NUMBER\n",
    "action: \"turn_on\" device\n",
    "device: HEATER | FAN\n",
    "\n",
    "comparator: GT | LT | EQ\n",
    "\n",
    "GT: \">\"\n",
    "LT: \"<\"\n",
    "EQ: \"==\"\n",
    "\n",
    "HEATER: \"heater\"\n",
    "FAN: \"fan\"\n",
    "\n",
    "%import common.SIGNED_NUMBER\n",
    "%import common.WS\n",
    "%ignore WS\n",
    "\"\"\""
   ]
  },
  {
   "cell_type": "markdown",
   "metadata": {},
   "source": [
    "be careful, in the class there is no explicit condition on temperature to device. the rules is in the DSL code given below. In here it will just do action if the condition of temperature is satisfied."
   ]
  },
  {
   "cell_type": "code",
   "execution_count": 13,
   "metadata": {},
   "outputs": [
    {
     "name": "stdout",
     "output_type": "stream",
     "text": [
      "dsl_code \n",
      "    when temperature > 25 then turn_on fan\n",
      "    when temperature < 15 then turn_on heater\n",
      "    \n",
      "== Environment: temperature = 10 ==\n",
      "[ACTION] Turning on heater\n",
      "\n",
      "== Environment: temperature = 30 ==\n",
      "[ACTION] Turning on fan\n"
     ]
    }
   ],
   "source": [
    "# === EVALUATOR ===\n",
    "class RuleExecutor(Transformer):\n",
    "    def __init__(self, environment):\n",
    "        self.env = environment #You pass in a dictionary like {\"temperature\": 10}.\n",
    "\n",
    "    def statement(self, items):\n",
    "        condition_func, action_func = items\n",
    "        if condition_func():\n",
    "            action_func() #If it returns True, it calls action_func() to perform the action (e.g., print \"Turning on fan\").\n",
    "\n",
    "    def condition(self, items):\n",
    "        comparator, value = items\n",
    "        temp = self.env[\"temperature\"]\n",
    "        ops = {\n",
    "                    \"GT\": lambda x: temp > x,\n",
    "                    \"LT\": lambda x: temp < x,\n",
    "                    \"EQ\": lambda x: temp == x\n",
    "                }\n",
    "        return lambda: ops[comparator](float(value)) #Returns a function that checks the condition.\n",
    "\n",
    "    def comparator(self, items):\n",
    "        return items[0].type  # \"GT\", \"LT\", or \"EQ\"\n",
    "\n",
    "    def action(self, items):\n",
    "        device = items[0]\n",
    "        return lambda: print(f\"[ACTION] Turning on {device}\")\n",
    "\n",
    "    def device(self, items):\n",
    "        return items[0].type.lower()  # Returns \"fan\" or \"heater\" #Extracts the name of the device as a string (\"fan\" or \"heater\").\n",
    "\n",
    "# === USAGE ===\n",
    "if __name__ == \"__main__\":\n",
    "    dsl_code = \"\"\"\n",
    "    when temperature > 25 then turn_on fan\n",
    "    when temperature < 15 then turn_on heater\n",
    "    \"\"\"\n",
    "    print(\"dsl_code\", dsl_code)\n",
    "    \n",
    "    parser = Lark(grammar, parser=\"lalr\")\n",
    "    tree = parser.parse(dsl_code)\n",
    "\n",
    "    print(\"== Environment: temperature = 10 ==\")\n",
    "    RuleExecutor({\"temperature\": 10}).transform(tree)\n",
    "\n",
    "    print(\"\\n== Environment: temperature = 30 ==\")\n",
    "    RuleExecutor({\"temperature\": 30}).transform(tree)"
   ]
  }
 ],
 "metadata": {
  "kernelspec": {
   "display_name": "ApparentlyRandom",
   "language": "python",
   "name": "python3"
  },
  "language_info": {
   "codemirror_mode": {
    "name": "ipython",
    "version": 3
   },
   "file_extension": ".py",
   "mimetype": "text/x-python",
   "name": "python",
   "nbconvert_exporter": "python",
   "pygments_lexer": "ipython3",
   "version": "3.11.11"
  }
 },
 "nbformat": 4,
 "nbformat_minor": 2
}
